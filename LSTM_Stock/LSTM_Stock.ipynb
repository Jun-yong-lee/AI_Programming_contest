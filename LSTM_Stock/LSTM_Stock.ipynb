{
 "cells": [
  {
   "cell_type": "code",
   "execution_count": 15,
   "metadata": {},
   "outputs": [],
   "source": [
    "import pandas as pd\n",
    "import numpy as np\n",
    "import matplotlib.pyplot as plt\n",
    "from keras.models import Sequential\n",
    "from keras.layers import LSTM, Dropout, Dense, Activation\n",
    "import datetime"
   ]
  },
  {
   "cell_type": "code",
   "execution_count": 16,
   "metadata": {},
   "outputs": [
    {
     "name": "stdout",
     "output_type": "stream",
     "text": [
      " C 드라이브의 볼륨에는 이름이 없습니다.\n",
      " 볼륨 일련 번호: 12C4-CBD6\n",
      "\n",
      " C:\\Users\\wnsdy\\LSTM_Stock 디렉터리\n",
      "\n",
      "2021-10-21  오후 04:32    <DIR>          .\n",
      "2021-10-21  오후 04:32    <DIR>          ..\n",
      "2021-10-21  오후 03:49    <DIR>          .ipynb_checkpoints\n",
      "2021-10-21  오후 03:50            13,265 005930.KS_1y.csv\n",
      "2021-10-21  오후 04:07            43,226 1_Asian economy.csv\n",
      "2021-10-21  오후 04:32            72,041 LSTM_Stock.ipynb\n",
      "               3개 파일             128,532 바이트\n",
      "               3개 디렉터리  18,334,486,528 바이트 남음\n"
     ]
    }
   ],
   "source": [
    "ls"
   ]
  },
  {
   "cell_type": "code",
   "execution_count": 17,
   "metadata": {},
   "outputs": [
    {
     "data": {
      "text/html": [
       "<div>\n",
       "<style scoped>\n",
       "    .dataframe tbody tr th:only-of-type {\n",
       "        vertical-align: middle;\n",
       "    }\n",
       "\n",
       "    .dataframe tbody tr th {\n",
       "        vertical-align: top;\n",
       "    }\n",
       "\n",
       "    .dataframe thead th {\n",
       "        text-align: right;\n",
       "    }\n",
       "</style>\n",
       "<table border=\"1\" class=\"dataframe\">\n",
       "  <thead>\n",
       "    <tr style=\"text-align: right;\">\n",
       "      <th></th>\n",
       "      <th>일자</th>\n",
       "      <th>종가</th>\n",
       "      <th>대비</th>\n",
       "      <th>등락률</th>\n",
       "      <th>시가</th>\n",
       "      <th>고가</th>\n",
       "      <th>저가</th>\n",
       "      <th>거래량</th>\n",
       "      <th>거래대금</th>\n",
       "      <th>시가총액</th>\n",
       "      <th>상장주식수</th>\n",
       "    </tr>\n",
       "  </thead>\n",
       "  <tbody>\n",
       "    <tr>\n",
       "      <th>0</th>\n",
       "      <td>2021/10/15</td>\n",
       "      <td>3780</td>\n",
       "      <td>50</td>\n",
       "      <td>1.34</td>\n",
       "      <td>3745</td>\n",
       "      <td>3805</td>\n",
       "      <td>3650</td>\n",
       "      <td>187163</td>\n",
       "      <td>697950175</td>\n",
       "      <td>96423014520</td>\n",
       "      <td>25508734</td>\n",
       "    </tr>\n",
       "    <tr>\n",
       "      <th>1</th>\n",
       "      <td>2021/10/14</td>\n",
       "      <td>3730</td>\n",
       "      <td>210</td>\n",
       "      <td>5.97</td>\n",
       "      <td>3520</td>\n",
       "      <td>3920</td>\n",
       "      <td>3520</td>\n",
       "      <td>599022</td>\n",
       "      <td>2256149880</td>\n",
       "      <td>95147577820</td>\n",
       "      <td>25508734</td>\n",
       "    </tr>\n",
       "    <tr>\n",
       "      <th>2</th>\n",
       "      <td>2021/10/13</td>\n",
       "      <td>3520</td>\n",
       "      <td>140</td>\n",
       "      <td>4.14</td>\n",
       "      <td>3380</td>\n",
       "      <td>3545</td>\n",
       "      <td>3350</td>\n",
       "      <td>174042</td>\n",
       "      <td>605904335</td>\n",
       "      <td>89790743680</td>\n",
       "      <td>25508734</td>\n",
       "    </tr>\n",
       "    <tr>\n",
       "      <th>3</th>\n",
       "      <td>2021/10/12</td>\n",
       "      <td>3380</td>\n",
       "      <td>-185</td>\n",
       "      <td>-5.19</td>\n",
       "      <td>3510</td>\n",
       "      <td>3550</td>\n",
       "      <td>3330</td>\n",
       "      <td>244996</td>\n",
       "      <td>833627520</td>\n",
       "      <td>86219520920</td>\n",
       "      <td>25508734</td>\n",
       "    </tr>\n",
       "    <tr>\n",
       "      <th>4</th>\n",
       "      <td>2021/10/08</td>\n",
       "      <td>3565</td>\n",
       "      <td>195</td>\n",
       "      <td>5.79</td>\n",
       "      <td>3465</td>\n",
       "      <td>3650</td>\n",
       "      <td>3315</td>\n",
       "      <td>402847</td>\n",
       "      <td>1399127475</td>\n",
       "      <td>90938636710</td>\n",
       "      <td>25508734</td>\n",
       "    </tr>\n",
       "  </tbody>\n",
       "</table>\n",
       "</div>"
      ],
      "text/plain": [
       "           일자    종가   대비   등락률    시가    고가    저가     거래량        거래대금  \\\n",
       "0  2021/10/15  3780   50  1.34  3745  3805  3650  187163   697950175   \n",
       "1  2021/10/14  3730  210  5.97  3520  3920  3520  599022  2256149880   \n",
       "2  2021/10/13  3520  140  4.14  3380  3545  3350  174042   605904335   \n",
       "3  2021/10/12  3380 -185 -5.19  3510  3550  3330  244996   833627520   \n",
       "4  2021/10/08  3565  195  5.79  3465  3650  3315  402847  1399127475   \n",
       "\n",
       "          시가총액     상장주식수  \n",
       "0  96423014520  25508734  \n",
       "1  95147577820  25508734  \n",
       "2  89790743680  25508734  \n",
       "3  86219520920  25508734  \n",
       "4  90938636710  25508734  "
      ]
     },
     "execution_count": 17,
     "metadata": {},
     "output_type": "execute_result"
    }
   ],
   "source": [
    "stock_data = pd.read_csv('./1_Asian economy.csv', encoding='cp949')\n",
    "stock_data.head()"
   ]
  },
  {
   "cell_type": "code",
   "execution_count": 18,
   "metadata": {},
   "outputs": [
    {
     "name": "stdout",
     "output_type": "stream",
     "text": [
      "<class 'pandas.core.frame.DataFrame'>\n",
      "RangeIndex: 430 entries, 0 to 429\n",
      "Data columns (total 11 columns):\n",
      " #   Column  Non-Null Count  Dtype  \n",
      "---  ------  --------------  -----  \n",
      " 0   일자      430 non-null    object \n",
      " 1   종가      430 non-null    int64  \n",
      " 2   대비      430 non-null    int64  \n",
      " 3   등락률     430 non-null    float64\n",
      " 4   시가      430 non-null    int64  \n",
      " 5   고가      430 non-null    int64  \n",
      " 6   저가      430 non-null    int64  \n",
      " 7   거래량     430 non-null    int64  \n",
      " 8   거래대금    430 non-null    int64  \n",
      " 9   시가총액    430 non-null    int64  \n",
      " 10  상장주식수   430 non-null    int64  \n",
      "dtypes: float64(1), int64(9), object(1)\n",
      "memory usage: 37.1+ KB\n"
     ]
    }
   ],
   "source": [
    "stock_data.info()"
   ]
  },
  {
   "cell_type": "code",
   "execution_count": 19,
   "metadata": {},
   "outputs": [],
   "source": [
    "# drop 함수를 사용하여 불필요한 정보의 column 데이터를 삭제\n",
    "stock_del_column = stock_data.drop(columns = ['대비', '등락률', '거래대금', '시가총액', '상장주식수'])"
   ]
  },
  {
   "cell_type": "code",
   "execution_count": 20,
   "metadata": {},
   "outputs": [],
   "source": [
    "# rename()을 이용하여 한글로 된 컬럼명을 영어로 바꿈\n",
    "stock_del_column = stock_del_column.rename(columns = {'일자':'Date', '시가':'Open', '고가':'High',\n",
    "                                                       '저가':'Low', '종가':'Close', '거래량':'Volumn'})"
   ]
  },
  {
   "cell_type": "code",
   "execution_count": 21,
   "metadata": {},
   "outputs": [
    {
     "data": {
      "text/html": [
       "<div>\n",
       "<style scoped>\n",
       "    .dataframe tbody tr th:only-of-type {\n",
       "        vertical-align: middle;\n",
       "    }\n",
       "\n",
       "    .dataframe tbody tr th {\n",
       "        vertical-align: top;\n",
       "    }\n",
       "\n",
       "    .dataframe thead th {\n",
       "        text-align: right;\n",
       "    }\n",
       "</style>\n",
       "<table border=\"1\" class=\"dataframe\">\n",
       "  <thead>\n",
       "    <tr style=\"text-align: right;\">\n",
       "      <th></th>\n",
       "      <th>Date</th>\n",
       "      <th>Close</th>\n",
       "      <th>Open</th>\n",
       "      <th>High</th>\n",
       "      <th>Low</th>\n",
       "      <th>Volumn</th>\n",
       "    </tr>\n",
       "  </thead>\n",
       "  <tbody>\n",
       "    <tr>\n",
       "      <th>0</th>\n",
       "      <td>2021/10/15</td>\n",
       "      <td>3780</td>\n",
       "      <td>3745</td>\n",
       "      <td>3805</td>\n",
       "      <td>3650</td>\n",
       "      <td>187163</td>\n",
       "    </tr>\n",
       "    <tr>\n",
       "      <th>1</th>\n",
       "      <td>2021/10/14</td>\n",
       "      <td>3730</td>\n",
       "      <td>3520</td>\n",
       "      <td>3920</td>\n",
       "      <td>3520</td>\n",
       "      <td>599022</td>\n",
       "    </tr>\n",
       "    <tr>\n",
       "      <th>2</th>\n",
       "      <td>2021/10/13</td>\n",
       "      <td>3520</td>\n",
       "      <td>3380</td>\n",
       "      <td>3545</td>\n",
       "      <td>3350</td>\n",
       "      <td>174042</td>\n",
       "    </tr>\n",
       "    <tr>\n",
       "      <th>3</th>\n",
       "      <td>2021/10/12</td>\n",
       "      <td>3380</td>\n",
       "      <td>3510</td>\n",
       "      <td>3550</td>\n",
       "      <td>3330</td>\n",
       "      <td>244996</td>\n",
       "    </tr>\n",
       "    <tr>\n",
       "      <th>4</th>\n",
       "      <td>2021/10/08</td>\n",
       "      <td>3565</td>\n",
       "      <td>3465</td>\n",
       "      <td>3650</td>\n",
       "      <td>3315</td>\n",
       "      <td>402847</td>\n",
       "    </tr>\n",
       "  </tbody>\n",
       "</table>\n",
       "</div>"
      ],
      "text/plain": [
       "         Date  Close  Open  High   Low  Volumn\n",
       "0  2021/10/15   3780  3745  3805  3650  187163\n",
       "1  2021/10/14   3730  3520  3920  3520  599022\n",
       "2  2021/10/13   3520  3380  3545  3350  174042\n",
       "3  2021/10/12   3380  3510  3550  3330  244996\n",
       "4  2021/10/08   3565  3465  3650  3315  402847"
      ]
     },
     "execution_count": 21,
     "metadata": {},
     "output_type": "execute_result"
    }
   ],
   "source": [
    "stock_del_column.head()"
   ]
  },
  {
   "cell_type": "code",
   "execution_count": 22,
   "metadata": {},
   "outputs": [],
   "source": [
    "high_prices = stock_del_column['High'].values\n",
    "low_prices = stock_del_column['Low'].values\n",
    "mid_prices = (high_prices + low_prices) / 2"
   ]
  },
  {
   "cell_type": "code",
   "execution_count": 23,
   "metadata": {},
   "outputs": [],
   "source": [
    "seq_len = 30\n",
    "sequence_length = seq_len + 1\n",
    "\n",
    "result = []\n",
    "for index in range(len(mid_prices) - sequence_length):\n",
    "    result.append(mid_prices[index:index + sequence_length])"
   ]
  },
  {
   "cell_type": "code",
   "execution_count": 24,
   "metadata": {},
   "outputs": [
    {
     "data": {
      "text/plain": [
       "((359, 30, 1), (40, 30, 1))"
      ]
     },
     "execution_count": 24,
     "metadata": {},
     "output_type": "execute_result"
    }
   ],
   "source": [
    "normalized_data = []\n",
    "for window in result:\n",
    "    normalized_window = [((float(p) / float(window[0])) - 1) for p in window]\n",
    "    normalized_data.append(normalized_window)\n",
    "\n",
    "result = np.array(normalized_data)\n",
    "\n",
    "# split train and test data\n",
    "row = int(round(result.shape[0] * 0.9))\n",
    "train = result[:row, :]\n",
    "np.random.shuffle(train)\n",
    "\n",
    "x_train = train[:, :-1]\n",
    "x_train = np.reshape(x_train, (x_train.shape[0], x_train.shape[1], 1))\n",
    "y_train = train[:, -1]\n",
    "\n",
    "x_test = result[row:, :-1]\n",
    "x_test = np.reshape(x_test, (x_test.shape[0], x_test.shape[1], 1))\n",
    "y_test = result[row:, -1]\n",
    "\n",
    "x_train.shape, x_test.shape"
   ]
  },
  {
   "cell_type": "code",
   "execution_count": 25,
   "metadata": {},
   "outputs": [
    {
     "name": "stdout",
     "output_type": "stream",
     "text": [
      "Model: \"sequential_1\"\n",
      "_________________________________________________________________\n",
      "Layer (type)                 Output Shape              Param #   \n",
      "=================================================================\n",
      "lstm_2 (LSTM)                (None, 30, 30)            3840      \n",
      "_________________________________________________________________\n",
      "lstm_3 (LSTM)                (None, 64)                24320     \n",
      "_________________________________________________________________\n",
      "dense_1 (Dense)              (None, 1)                 65        \n",
      "=================================================================\n",
      "Total params: 28,225\n",
      "Trainable params: 28,225\n",
      "Non-trainable params: 0\n",
      "_________________________________________________________________\n"
     ]
    }
   ],
   "source": [
    "model = Sequential()\n",
    "\n",
    "model.add(LSTM(30, return_sequences=True, input_shape=(30, 1)))\n",
    "\n",
    "model.add(LSTM(64, return_sequences=False))\n",
    "\n",
    "model.add(Dense(1, activation='linear'))\n",
    "\n",
    "model.compile(loss='mse', optimizer='rmsprop')\n",
    "\n",
    "model.summary()"
   ]
  },
  {
   "cell_type": "code",
   "execution_count": 26,
   "metadata": {},
   "outputs": [
    {
     "name": "stdout",
     "output_type": "stream",
     "text": [
      "Epoch 1/20\n",
      "36/36 [==============================] - 3s 25ms/step - loss: 0.0112 - val_loss: 0.0482\n",
      "Epoch 2/20\n",
      "36/36 [==============================] - 0s 13ms/step - loss: 0.0060 - val_loss: 0.0350\n",
      "Epoch 3/20\n",
      "36/36 [==============================] - 0s 12ms/step - loss: 0.0046 - val_loss: 0.0221\n",
      "Epoch 4/20\n",
      "36/36 [==============================] - 0s 12ms/step - loss: 0.0040 - val_loss: 0.0109\n",
      "Epoch 5/20\n",
      "36/36 [==============================] - 0s 12ms/step - loss: 0.0033 - val_loss: 0.0098\n",
      "Epoch 6/20\n",
      "36/36 [==============================] - 0s 12ms/step - loss: 0.0032 - val_loss: 0.0091\n",
      "Epoch 7/20\n",
      "36/36 [==============================] - 0s 12ms/step - loss: 0.0027 - val_loss: 0.0190\n",
      "Epoch 8/20\n",
      "36/36 [==============================] - 0s 12ms/step - loss: 0.0026 - val_loss: 0.0104\n",
      "Epoch 9/20\n",
      "36/36 [==============================] - 0s 12ms/step - loss: 0.0025 - val_loss: 0.0068\n",
      "Epoch 10/20\n",
      "36/36 [==============================] - 0s 12ms/step - loss: 0.0024 - val_loss: 0.0055\n",
      "Epoch 11/20\n",
      "36/36 [==============================] - 0s 12ms/step - loss: 0.0021 - val_loss: 0.0074\n",
      "Epoch 12/20\n",
      "36/36 [==============================] - 0s 12ms/step - loss: 0.0022 - val_loss: 0.0059\n",
      "Epoch 13/20\n",
      "36/36 [==============================] - 0s 12ms/step - loss: 0.0019 - val_loss: 0.0067\n",
      "Epoch 14/20\n",
      "36/36 [==============================] - 0s 12ms/step - loss: 0.0016 - val_loss: 0.0072\n",
      "Epoch 15/20\n",
      "36/36 [==============================] - 0s 12ms/step - loss: 0.0016 - val_loss: 0.0064\n",
      "Epoch 16/20\n",
      "36/36 [==============================] - 0s 12ms/step - loss: 0.0016 - val_loss: 0.0042\n",
      "Epoch 17/20\n",
      "36/36 [==============================] - 0s 12ms/step - loss: 0.0014 - val_loss: 0.0035\n",
      "Epoch 18/20\n",
      "36/36 [==============================] - 0s 13ms/step - loss: 0.0013 - val_loss: 0.0031\n",
      "Epoch 19/20\n",
      "36/36 [==============================] - 0s 12ms/step - loss: 0.0013 - val_loss: 0.0051\n",
      "Epoch 20/20\n",
      "36/36 [==============================] - 0s 12ms/step - loss: 0.0013 - val_loss: 0.0029\n"
     ]
    },
    {
     "data": {
      "text/plain": [
       "<keras.callbacks.History at 0x24d94df4820>"
      ]
     },
     "execution_count": 26,
     "metadata": {},
     "output_type": "execute_result"
    }
   ],
   "source": [
    "model.fit(x_train, y_train,\n",
    "    validation_data=(x_test, y_test), batch_size=10, epochs=20)"
   ]
  },
  {
   "cell_type": "code",
   "execution_count": 27,
   "metadata": {},
   "outputs": [
    {
     "data": {
      "image/png": "[encoded data removed]",
      "text/plain": [
       "<Figure size 1440x720 with 1 Axes>"
      ]
     },
     "metadata": {},
     "output_type": "display_data"
    }
   ],
   "source": [
    "pred = model.predict(x_test)\n",
    "\n",
    "fig = plt.figure(facecolor='white', figsize=(20, 10))\n",
    "ax = fig.add_subplot(111)\n",
    "ax.plot(y_test, label='True')\n",
    "ax.plot(pred, label='Prediction')\n",
    "ax.legend()\n",
    "plt.show()"
   ]
  },
  {
   "cell_type": "code",
   "execution_count": null,
   "metadata": {},
   "outputs": [],
   "source": []
  },
  {
   "cell_type": "code",
   "execution_count": null,
   "metadata": {},
   "outputs": [],
   "source": []
  },
  {
   "cell_type": "code",
   "execution_count": null,
   "metadata": {},
   "outputs": [],
   "source": []
  },
  {
   "cell_type": "code",
   "execution_count": null,
   "metadata": {},
   "outputs": [],
   "source": []
  }
 ],
 "metadata": {
  "kernelspec": {
   "display_name": "Python 3",
   "language": "python",
   "name": "python3"
  },
  "language_info": {
   "codemirror_mode": {
    "name": "ipython",
    "version": 3
   },
   "file_extension": ".py",
   "mimetype": "text/x-python",
   "name": "python",
   "nbconvert_exporter": "python",
   "pygments_lexer": "ipython3",
   "version": "3.8.1"
  }
 },
 "nbformat": 4,
 "nbformat_minor": 4
}
